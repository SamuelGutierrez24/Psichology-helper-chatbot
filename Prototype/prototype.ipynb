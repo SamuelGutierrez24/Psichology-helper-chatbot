{
  "cells": [
    {
      "cell_type": "markdown",
      "source": [
        "- Juan Camilo Salazar(A00381085)\n",
        "- Samuel Gutierrez (A00381035)\n",
        "- Camilo Carmona (A00381090)"
      ],
      "metadata": {
        "id": "FPH8suRWghI6"
      }
    },
    {
      "cell_type": "markdown",
      "metadata": {
        "id": "wBdXeu8FR3y-"
      },
      "source": [
        "# Prototype of the underlying expert system"
      ]
    },
    {
      "cell_type": "markdown",
      "source": [
        "##Imports"
      ],
      "metadata": {
        "id": "AXZP5g3LZFcr"
      }
    },
    {
      "cell_type": "code",
      "execution_count": null,
      "metadata": {
        "colab": {
          "base_uri": "https://localhost:8080/"
        },
        "id": "FHCjKtMHR3zF",
        "outputId": "dfc8a8fd-c263-4f8b-d7b9-9f8fb109ef95"
      },
      "outputs": [
        {
          "output_type": "stream",
          "name": "stdout",
          "text": [
            "Collecting pgmpy\n",
            "  Downloading pgmpy-0.1.25-py3-none-any.whl (2.0 MB)\n",
            "\u001b[2K     \u001b[90m━━━━━━━━━━━━━━━━━━━━━━━━━━━━━━━━━━━━━━━━\u001b[0m \u001b[32m2.0/2.0 MB\u001b[0m \u001b[31m6.9 MB/s\u001b[0m eta \u001b[36m0:00:00\u001b[0m\n",
            "\u001b[?25hRequirement already satisfied: networkx in /usr/local/lib/python3.10/dist-packages (from pgmpy) (3.3)\n",
            "Requirement already satisfied: numpy in /usr/local/lib/python3.10/dist-packages (from pgmpy) (1.25.2)\n",
            "Requirement already satisfied: scipy in /usr/local/lib/python3.10/dist-packages (from pgmpy) (1.11.4)\n",
            "Requirement already satisfied: scikit-learn in /usr/local/lib/python3.10/dist-packages (from pgmpy) (1.2.2)\n",
            "Requirement already satisfied: pandas in /usr/local/lib/python3.10/dist-packages (from pgmpy) (2.0.3)\n",
            "Requirement already satisfied: pyparsing in /usr/local/lib/python3.10/dist-packages (from pgmpy) (3.1.2)\n",
            "Requirement already satisfied: torch in /usr/local/lib/python3.10/dist-packages (from pgmpy) (2.3.0+cu121)\n",
            "Requirement already satisfied: statsmodels in /usr/local/lib/python3.10/dist-packages (from pgmpy) (0.14.2)\n",
            "Requirement already satisfied: tqdm in /usr/local/lib/python3.10/dist-packages (from pgmpy) (4.66.4)\n",
            "Requirement already satisfied: joblib in /usr/local/lib/python3.10/dist-packages (from pgmpy) (1.4.2)\n",
            "Requirement already satisfied: opt-einsum in /usr/local/lib/python3.10/dist-packages (from pgmpy) (3.3.0)\n",
            "Requirement already satisfied: python-dateutil>=2.8.2 in /usr/local/lib/python3.10/dist-packages (from pandas->pgmpy) (2.8.2)\n",
            "Requirement already satisfied: pytz>=2020.1 in /usr/local/lib/python3.10/dist-packages (from pandas->pgmpy) (2023.4)\n",
            "Requirement already satisfied: tzdata>=2022.1 in /usr/local/lib/python3.10/dist-packages (from pandas->pgmpy) (2024.1)\n",
            "Requirement already satisfied: threadpoolctl>=2.0.0 in /usr/local/lib/python3.10/dist-packages (from scikit-learn->pgmpy) (3.5.0)\n",
            "Requirement already satisfied: patsy>=0.5.6 in /usr/local/lib/python3.10/dist-packages (from statsmodels->pgmpy) (0.5.6)\n",
            "Requirement already satisfied: packaging>=21.3 in /usr/local/lib/python3.10/dist-packages (from statsmodels->pgmpy) (24.0)\n",
            "Requirement already satisfied: filelock in /usr/local/lib/python3.10/dist-packages (from torch->pgmpy) (3.14.0)\n",
            "Requirement already satisfied: typing-extensions>=4.8.0 in /usr/local/lib/python3.10/dist-packages (from torch->pgmpy) (4.11.0)\n",
            "Requirement already satisfied: sympy in /usr/local/lib/python3.10/dist-packages (from torch->pgmpy) (1.12)\n",
            "Requirement already satisfied: jinja2 in /usr/local/lib/python3.10/dist-packages (from torch->pgmpy) (3.1.4)\n",
            "Requirement already satisfied: fsspec in /usr/local/lib/python3.10/dist-packages (from torch->pgmpy) (2023.6.0)\n",
            "Collecting nvidia-cuda-nvrtc-cu12==12.1.105 (from torch->pgmpy)\n",
            "  Using cached nvidia_cuda_nvrtc_cu12-12.1.105-py3-none-manylinux1_x86_64.whl (23.7 MB)\n",
            "Collecting nvidia-cuda-runtime-cu12==12.1.105 (from torch->pgmpy)\n",
            "  Using cached nvidia_cuda_runtime_cu12-12.1.105-py3-none-manylinux1_x86_64.whl (823 kB)\n",
            "Collecting nvidia-cuda-cupti-cu12==12.1.105 (from torch->pgmpy)\n",
            "  Using cached nvidia_cuda_cupti_cu12-12.1.105-py3-none-manylinux1_x86_64.whl (14.1 MB)\n",
            "Collecting nvidia-cudnn-cu12==8.9.2.26 (from torch->pgmpy)\n",
            "  Using cached nvidia_cudnn_cu12-8.9.2.26-py3-none-manylinux1_x86_64.whl (731.7 MB)\n",
            "Collecting nvidia-cublas-cu12==12.1.3.1 (from torch->pgmpy)\n",
            "  Using cached nvidia_cublas_cu12-12.1.3.1-py3-none-manylinux1_x86_64.whl (410.6 MB)\n",
            "Collecting nvidia-cufft-cu12==11.0.2.54 (from torch->pgmpy)\n",
            "  Using cached nvidia_cufft_cu12-11.0.2.54-py3-none-manylinux1_x86_64.whl (121.6 MB)\n",
            "Collecting nvidia-curand-cu12==10.3.2.106 (from torch->pgmpy)\n",
            "  Using cached nvidia_curand_cu12-10.3.2.106-py3-none-manylinux1_x86_64.whl (56.5 MB)\n",
            "Collecting nvidia-cusolver-cu12==11.4.5.107 (from torch->pgmpy)\n",
            "  Using cached nvidia_cusolver_cu12-11.4.5.107-py3-none-manylinux1_x86_64.whl (124.2 MB)\n",
            "Collecting nvidia-cusparse-cu12==12.1.0.106 (from torch->pgmpy)\n",
            "  Using cached nvidia_cusparse_cu12-12.1.0.106-py3-none-manylinux1_x86_64.whl (196.0 MB)\n",
            "Collecting nvidia-nccl-cu12==2.20.5 (from torch->pgmpy)\n",
            "  Using cached nvidia_nccl_cu12-2.20.5-py3-none-manylinux2014_x86_64.whl (176.2 MB)\n",
            "Collecting nvidia-nvtx-cu12==12.1.105 (from torch->pgmpy)\n",
            "  Using cached nvidia_nvtx_cu12-12.1.105-py3-none-manylinux1_x86_64.whl (99 kB)\n",
            "Requirement already satisfied: triton==2.3.0 in /usr/local/lib/python3.10/dist-packages (from torch->pgmpy) (2.3.0)\n",
            "Collecting nvidia-nvjitlink-cu12 (from nvidia-cusolver-cu12==11.4.5.107->torch->pgmpy)\n",
            "  Downloading nvidia_nvjitlink_cu12-12.5.40-py3-none-manylinux2014_x86_64.whl (21.3 MB)\n",
            "\u001b[2K     \u001b[90m━━━━━━━━━━━━━━━━━━━━━━━━━━━━━━━━━━━━━━━━\u001b[0m \u001b[32m21.3/21.3 MB\u001b[0m \u001b[31m37.1 MB/s\u001b[0m eta \u001b[36m0:00:00\u001b[0m\n",
            "\u001b[?25hRequirement already satisfied: six in /usr/local/lib/python3.10/dist-packages (from patsy>=0.5.6->statsmodels->pgmpy) (1.16.0)\n",
            "Requirement already satisfied: MarkupSafe>=2.0 in /usr/local/lib/python3.10/dist-packages (from jinja2->torch->pgmpy) (2.1.5)\n",
            "Requirement already satisfied: mpmath>=0.19 in /usr/local/lib/python3.10/dist-packages (from sympy->torch->pgmpy) (1.3.0)\n",
            "Installing collected packages: nvidia-nvtx-cu12, nvidia-nvjitlink-cu12, nvidia-nccl-cu12, nvidia-curand-cu12, nvidia-cufft-cu12, nvidia-cuda-runtime-cu12, nvidia-cuda-nvrtc-cu12, nvidia-cuda-cupti-cu12, nvidia-cublas-cu12, nvidia-cusparse-cu12, nvidia-cudnn-cu12, nvidia-cusolver-cu12, pgmpy\n",
            "Successfully installed nvidia-cublas-cu12-12.1.3.1 nvidia-cuda-cupti-cu12-12.1.105 nvidia-cuda-nvrtc-cu12-12.1.105 nvidia-cuda-runtime-cu12-12.1.105 nvidia-cudnn-cu12-8.9.2.26 nvidia-cufft-cu12-11.0.2.54 nvidia-curand-cu12-10.3.2.106 nvidia-cusolver-cu12-11.4.5.107 nvidia-cusparse-cu12-12.1.0.106 nvidia-nccl-cu12-2.20.5 nvidia-nvjitlink-cu12-12.5.40 nvidia-nvtx-cu12-12.1.105 pgmpy-0.1.25\n",
            "Collecting experta\n",
            "  Downloading experta-1.9.4-py3-none-any.whl (35 kB)\n",
            "Collecting frozendict==1.2 (from experta)\n",
            "  Downloading frozendict-1.2.tar.gz (2.6 kB)\n",
            "  Preparing metadata (setup.py) ... \u001b[?25l\u001b[?25hdone\n",
            "Collecting schema==0.6.7 (from experta)\n",
            "  Downloading schema-0.6.7-py2.py3-none-any.whl (14 kB)\n",
            "Building wheels for collected packages: frozendict\n",
            "  Building wheel for frozendict (setup.py) ... \u001b[?25l\u001b[?25hdone\n",
            "  Created wheel for frozendict: filename=frozendict-1.2-py3-none-any.whl size=3149 sha256=7ce7ecf33dba888d799c4fc3a283a1a3796b3793d933390e737c7fb511d648d5\n",
            "  Stored in directory: /root/.cache/pip/wheels/ff/80/86/2d516a3c26397f67adaa2c848879d4a6359d90a60546ce4e03\n",
            "Successfully built frozendict\n",
            "Installing collected packages: schema, frozendict, experta\n",
            "  Attempting uninstall: frozendict\n",
            "    Found existing installation: frozendict 2.4.4\n",
            "    Uninstalling frozendict-2.4.4:\n",
            "      Successfully uninstalled frozendict-2.4.4\n",
            "\u001b[31mERROR: pip's dependency resolver does not currently take into account all the packages that are installed. This behaviour is the source of the following dependency conflicts.\n",
            "yfinance 0.2.40 requires frozendict>=2.3.4, but you have frozendict 1.2 which is incompatible.\u001b[0m\u001b[31m\n",
            "\u001b[0mSuccessfully installed experta-1.9.4 frozendict-1.2 schema-0.6.7\n",
            "Collecting frozendict==2.4.2\n",
            "  Downloading frozendict-2.4.2-cp310-cp310-manylinux_2_17_x86_64.manylinux2014_x86_64.whl (116 kB)\n",
            "\u001b[2K     \u001b[90m━━━━━━━━━━━━━━━━━━━━━━━━━━━━━━━━━━━━━━━━\u001b[0m \u001b[32m116.8/116.8 kB\u001b[0m \u001b[31m2.2 MB/s\u001b[0m eta \u001b[36m0:00:00\u001b[0m\n",
            "\u001b[?25hInstalling collected packages: frozendict\n",
            "  Attempting uninstall: frozendict\n",
            "    Found existing installation: frozendict 1.2\n",
            "    Uninstalling frozendict-1.2:\n",
            "      Successfully uninstalled frozendict-1.2\n",
            "\u001b[31mERROR: pip's dependency resolver does not currently take into account all the packages that are installed. This behaviour is the source of the following dependency conflicts.\n",
            "experta 1.9.4 requires frozendict==1.2, but you have frozendict 2.4.2 which is incompatible.\u001b[0m\u001b[31m\n",
            "\u001b[0mSuccessfully installed frozendict-2.4.2\n"
          ]
        }
      ],
      "source": [
        "!pip install pgmpy\n",
        "!pip install experta\n",
        "!pip install frozendict==2.4.2"
      ]
    },
    {
      "cell_type": "code",
      "source": [
        "from experta import *\n",
        "from pgmpy.models import BayesianNetwork\n",
        "from pgmpy.factors.discrete import TabularCPD\n",
        "import pandas as pd"
      ],
      "metadata": {
        "id": "9UqwMz86dch-"
      },
      "execution_count": null,
      "outputs": []
    },
    {
      "cell_type": "markdown",
      "source": [
        "##Bayesian network"
      ],
      "metadata": {
        "id": "-N6D84TPZBZM"
      }
    },
    {
      "cell_type": "code",
      "source": [
        "dataAnxiety = pd.DataFrame(data={'p1':['1','2','3','0','1','3','2','1'],\n",
        "                          'p2':['1','2','3','0','2','1','0','3'],\n",
        "                          'p3':['1','2','3','0','1','3','3','2'],\n",
        "                          'p4':['1','2','3','0','1','1','3','3'],\n",
        "                          'p5':['1','2','3','0','2','0','2','3'],\n",
        "                          'Anxiety':['mild','moderate','severe','none','mild','moderate','moderate','moderate']})\n",
        "\n",
        "dataDepression = pd.DataFrame(data={'p1':['1','2','3','0','1'],\n",
        "                          'p2':['1','2','3','0','2'],\n",
        "                          'p3':['1','2','3','0','1'],\n",
        "                          'p4':['1','2','3','0','1'],\n",
        "                          'p5':['1','2','3','0','2'],\n",
        "                          'Depression':['mild','moderate','moderate','mild','mild']})"
      ],
      "metadata": {
        "id": "aIPS-A5RXzfV"
      },
      "execution_count": null,
      "outputs": []
    },
    {
      "cell_type": "code",
      "source": [
        "modelAnxiety = BayesianNetwork([('p1' , 'Anxiety' ) , ('p2' , 'Anxiety' ) , ('p3' , 'Anxiety' ) , ('p4' , 'Anxiety' ), ('p5' , 'Anxiety' )])\n",
        "\n",
        "modelDepression = BayesianNetwork([('p1' , 'Depression' ) , ('p2' , 'Depression' ) , ('p3' , 'Depression' ) , ('p4' , 'Depression' ), ('p5' , 'Depression' )])"
      ],
      "metadata": {
        "id": "D8Z9f4s5cxve"
      },
      "execution_count": null,
      "outputs": []
    },
    {
      "cell_type": "code",
      "source": [
        "from pgmpy.estimators import MaximumLikelihoodEstimator\n",
        "mle = MaximumLikelihoodEstimator(modelAnxiety, dataAnxiety)\n",
        "def print_full (cpd):\n",
        "  backup = TabularCPD._truncate_strtable\n",
        "  TabularCPD._truncate_strtable = lambda self, x: x\n",
        "  print (cpd)\n",
        "  TabularCPD._truncate_strtable = backup\n",
        "\n",
        "modelAnxiety.add_cpds(mle.estimate_cpd('p1'),mle.estimate_cpd('p2'),mle.estimate_cpd('p3'),mle.estimate_cpd('p4'),\n",
        "               mle.estimate_cpd('p5'),mle.estimate_cpd('Anxiety'))\n",
        "\n",
        "mle = MaximumLikelihoodEstimator(modelDepression, dataDepression)\n",
        "def print_full (cpd):\n",
        "  backup = TabularCPD._truncate_strtable\n",
        "  TabularCPD._truncate_strtable = lambda self, x: x\n",
        "  print (cpd)\n",
        "  TabularCPD._truncate_strtable = backup\n",
        "\n",
        "modelDepression.add_cpds(mle.estimate_cpd('p1'),mle.estimate_cpd('p2'),mle.estimate_cpd('p3'),mle.estimate_cpd('p4'),\n",
        "               mle.estimate_cpd('p5'),mle.estimate_cpd('Depression') )"
      ],
      "metadata": {
        "colab": {
          "base_uri": "https://localhost:8080/"
        },
        "id": "8shSnDVpd27t",
        "outputId": "8e7290e3-26be-4607-a975-7760c9dc715d"
      },
      "execution_count": null,
      "outputs": [
        {
          "output_type": "stream",
          "name": "stderr",
          "text": [
            "WARNING:pgmpy:Replacing existing CPD for p1\n",
            "WARNING:pgmpy:Replacing existing CPD for p2\n",
            "WARNING:pgmpy:Replacing existing CPD for p3\n",
            "WARNING:pgmpy:Replacing existing CPD for p4\n",
            "WARNING:pgmpy:Replacing existing CPD for p5\n",
            "WARNING:pgmpy:Replacing existing CPD for Anxiety\n",
            "WARNING:pgmpy:Replacing existing CPD for p1\n",
            "WARNING:pgmpy:Replacing existing CPD for p2\n",
            "WARNING:pgmpy:Replacing existing CPD for p3\n",
            "WARNING:pgmpy:Replacing existing CPD for p4\n",
            "WARNING:pgmpy:Replacing existing CPD for p5\n",
            "WARNING:pgmpy:Replacing existing CPD for Depression\n"
          ]
        }
      ]
    },
    {
      "cell_type": "code",
      "source": [
        "from pgmpy.inference import VariableElimination\n",
        "infer1 = VariableElimination (modelAnxiety)\n",
        "post_p1 = infer1.query([\"Anxiety\"], evidence={\"p1\": \"3\",\"p2\": \"0\", \"p3\": \"3\", \"p4\": \"3\", \"p5\": \"0\"})\n",
        "print (post_p1)\n",
        "\n",
        "infer2 = VariableElimination (modelDepression)\n",
        "post_p2 = infer2.query([\"Depression\"], evidence={\"p1\": \"3\",\"p2\": \"3\", \"p3\": \"3\", \"p4\": \"3\", \"p5\": \"3\"})\n",
        "print (post_p2)\n",
        "\n",
        "#print(post_p1.get_value(Anxiety=\"mild\"))"
      ],
      "metadata": {
        "colab": {
          "base_uri": "https://localhost:8080/"
        },
        "id": "3eOu_kqyeoPC",
        "outputId": "78330e57-411d-47ab-ef61-b6c249c3b59b"
      },
      "execution_count": null,
      "outputs": [
        {
          "output_type": "stream",
          "name": "stdout",
          "text": [
            "+-------------------+----------------+\n",
            "| Anxiety           |   phi(Anxiety) |\n",
            "+===================+================+\n",
            "| Anxiety(mild)     |         0.5000 |\n",
            "+-------------------+----------------+\n",
            "| Anxiety(moderate) |         0.5000 |\n",
            "+-------------------+----------------+\n",
            "+----------------------+-------------------+\n",
            "| Depression           |   phi(Depression) |\n",
            "+======================+===================+\n",
            "| Depression(mild)     |            0.0000 |\n",
            "+----------------------+-------------------+\n",
            "| Depression(moderate) |            1.0000 |\n",
            "+----------------------+-------------------+\n"
          ]
        }
      ]
    },
    {
      "cell_type": "code",
      "execution_count": null,
      "metadata": {
        "id": "WCbqmMjsR3zH"
      },
      "outputs": [],
      "source": [
        "class ProtoMentalHealthHelper(KnowledgeEngine):\n",
        "\n",
        "  @DefFacts()\n",
        "  def _initial_ ( self ) :\n",
        "    yield Fact(anxietyMildText=\"\"\"\\nMild anxiety disorder. which may require only watchful waiting\"\"\")\n",
        "    yield Fact(anxietyModerateText=\"\"\"\\nModerate anxiety disorder. Active treatment probably warranted\"\"\")\n",
        "    yield Fact(despressionMildText=\"\"\"\\nAnswers suggest mild depression which may require only watchful waiting and repeated test at followup.\"\"\")\n",
        "    yield Fact(despressionModerateText=\"\"\"\\n Answers suggest moderate depression severity; patient should have a treatment plan ranging form counseling, followup, and/or pharmacotherapy.\"\"\")\n",
        "\n",
        "    yield Fact(condition='anxiety', minAge=15, maxAge=24, risk ='high' )\n",
        "    yield Fact(condition='anxiety', minAge=25, maxAge=40, risk ='mid' )\n",
        "    yield Fact(condition='anxiety', minAge=41, maxAge=80, risk ='high' )\n",
        "\n",
        "    yield Fact(condition='depression', minAge=15, maxAge=24, risk ='high' )\n",
        "    yield Fact(condition='depression', minAge=25, maxAge=40, risk ='mid' )\n",
        "    yield Fact(condition='depression', minAge=41, maxAge=80, risk ='high' )\n",
        "\n",
        "  @Rule(Fact(anxiety1=MATCH.anxiety1),Fact(anxiety2=MATCH.anxiety2),Fact(anxiety3=MATCH.anxiety3),Fact(anxiety4=MATCH.anxiety4),Fact(anxiety5=MATCH.anxiety5))\n",
        "  def anxiety(self,anxiety1,anxiety2,anxiety3, anxiety4, anxiety5):\n",
        "\n",
        "    resultTable = infer1.query([\"Anxiety\"], evidence={\"p1\": anxiety1,\"p2\": anxiety2, \"p3\": anxiety3, \"p4\": anxiety4, \"p5\": anxiety5})\n",
        "\n",
        "    mild = resultTable.get_value(Anxiety=\"mild\")\n",
        "    moderate = resultTable.get_value(Anxiety=\"moderate\")\n",
        "\n",
        "    self.declare(Fact(anxietyPreMild=mild))\n",
        "    self.declare(Fact(anxietyPreModerate= moderate))\n",
        "\n",
        "\n",
        "  @Rule(Fact(anxietyPreMild= MATCH.anxietyPreMild),Fact(anxietyPreModerate= MATCH.anxietyPreModerate),TEST(lambda anxietyPreModerate, anxietyPreMild: anxietyPreModerate >= anxietyPreMild))\n",
        "  def anxietyDeclareModerate(self,anxietyPreModerate):\n",
        "      self.declare(Fact(anxietyModerate=True, anxValue= anxietyPreModerate))\n",
        "\n",
        "\n",
        "  @Rule(Fact(anxietyPreMild= MATCH.anxietyPreMild),Fact(anxietyPreModerate= MATCH.anxietyPreModerate),TEST(lambda anxietyPreModerate, anxietyPreMild: anxietyPreModerate < anxietyPreMild))\n",
        "  def anxietyDeclareMild(self,anxietyPreMild):\n",
        "      self.declare(Fact(anxietyMild=True, anxValue= anxietyPreMild))\n",
        "\n",
        "\n",
        "  @Rule(Fact(depression1=MATCH.depression1),Fact(depression2=MATCH.depression2),Fact(depression3=MATCH.depression3),Fact(depression4=MATCH.depression4),Fact(depression5=MATCH.depression5))\n",
        "  def depression(self,depression1,depression2,depression3, depression4, depression5):\n",
        "\n",
        "    resultTable = infer2.query([\"Depression\"], evidence={\"p1\": depression1,\"p2\": depression2, \"p3\": depression3, \"p4\": depression4, \"p5\": depression5})\n",
        "\n",
        "    mild = resultTable.get_value(Depression=\"mild\")\n",
        "    moderate = resultTable.get_value(Depression=\"moderate\")\n",
        "\n",
        "    self.declare(Fact(depressionPreMild=mild))\n",
        "    self.declare(Fact(depressionPreModerate= moderate))\n",
        "\n",
        "\n",
        "  @Rule(Fact(depressionPreMild= MATCH.depressionPreMild),Fact(depressionPreModerate= MATCH.depressionPreModerate),TEST(lambda depressionPreModerate, depressionPreMild: depressionPreModerate >= depressionPreMild))\n",
        "  def depressionDeclareModerate(self,depressionPreModerate):\n",
        "    self.declare(Fact(depressionModerate=True, depValue= depressionPreModerate))\n",
        "\n",
        "  @Rule(Fact(depressionPreMild= MATCH.depressionPreMild),Fact(depressionPreModerate= MATCH.depressionPreModerate),TEST(lambda depressionPreModerate, depressionPreMild: depressionPreModerate < depressionPreMild))\n",
        "  def depressionDeclareMild(self,depressionPreMild):\n",
        "    self.declare(Fact(depressionMild=True, depValue= depressionPreMild))\n",
        "\n",
        "\n",
        "  @Rule(Fact(depressionMild=True, depValue= MATCH.depValue),Fact(anxietyMild=True, anxValue= MATCH.anxValue),TEST(lambda depValue, anxValue: depValue >= anxValue), Fact(despressionMildText=MATCH.despressionMildText))\n",
        "  def depressionMildPrint(self,despressionMildText):\n",
        "    print(despressionMildText)\n",
        "\n",
        "  @Rule(Fact(depressionMild=True, depValue= MATCH.depValue),Fact(anxietyMild=True, anxValue= MATCH.anxValue),TEST(lambda anxValue, depValue: anxValue > depValue), Fact(despressionMildText=MATCH.despressionMildText))\n",
        "  def anxietyMildPrint(self,despressionMildText):\n",
        "    print(despressionMildText)\n",
        "\n",
        "\n",
        "  @Rule(Fact(depressionModerate=True), Fact(despressionModerateText=MATCH.despressionModerateText))\n",
        "  def depressionPrint(self, despressionModerateText):\n",
        "    print(despressionModerateText)\n",
        "\n",
        "  @Rule(Fact(anxietyModerate=True), Fact(anxietyModerateText=MATCH.anxietyModerateText))\n",
        "  def anxietyPrint(self, anxietyModerateText):\n",
        "    print(anxietyModerateText)\n",
        "\n",
        "\n",
        "\n"
      ]
    },
    {
      "cell_type": "code",
      "source": [
        "def run(anxiety1, anxiety2, anxiety3, anxiety4, anxiety5, depression1, depression2, depression3, depression4, depression5):\n",
        "\n",
        "  #print(anxiety1, anxiety2, anxiety3, anxiety4, anxiety5, depression1, depression2, depression3, depression4, depression5)\n",
        "\n",
        "  expert_system = ProtoMentalHealthHelper()\n",
        "  expert_system.reset()\n",
        "\n",
        "  expert_system.declare(Fact( anxiety1= anxiety1))\n",
        "  expert_system.declare(Fact( anxiety2= anxiety2))\n",
        "  expert_system.declare(Fact( anxiety3= anxiety3))\n",
        "  expert_system.declare(Fact( anxiety4= anxiety4))\n",
        "  expert_system.declare(Fact( anxiety5= anxiety5))\n",
        "\n",
        "  expert_system.declare(Fact( depression1= depression1))\n",
        "  expert_system.declare(Fact( depression2= depression2))\n",
        "  expert_system.declare(Fact( depression3= depression3))\n",
        "  expert_system.declare(Fact( depression4= depression4))\n",
        "  expert_system.declare(Fact( depression5= depression5))\n",
        "\n",
        "  #print (expert_system.facts)\n",
        "\n",
        "  expert_system.run()"
      ],
      "metadata": {
        "id": "A5_FGc0JgOFk"
      },
      "execution_count": null,
      "outputs": []
    },
    {
      "cell_type": "code",
      "source": [
        "def main():\n",
        "\n",
        "  print (\"Welcome to the Mental Health Helper Sysyem!\")\n",
        "  print (\"how often have you been bothered by the following over the past 2 weeks?\")\n",
        "  print (\"\"\"\n",
        "    Not at all = 0\n",
        "    Several days = 1\n",
        "    More than half the days = 2\n",
        "    Nearly every day = 3\n",
        "    \"\"\")\n",
        "\n",
        "  anxiety1 = input (\"Feeling nervous, anxious, or on edge (0,1,2,3)\")\n",
        "  anxiety2 = input (\"Not being able to stop or control worrying (0,1,2,3)\")\n",
        "  anxiety3 = input (\"Worrying too much about different things (0,1,2,3)\")\n",
        "  anxiety4 = input (\"Trouble relaxing (0,1,2,3)\")\n",
        "  anxiety5 = input (\"Being so restless that it's hard to sit still (0,1,2,3)\")\n",
        "\n",
        "  depression1 = input (\"Little interest or pleasure in doing things?(0,1,2,3)\")\n",
        "  depression2 = input (\"Feeling down, depressed, or hopeless? (0,1,2,3)\")\n",
        "  depression3 = input (\"Trouble falling or staying asleep, or sleeping too much? (0,1,2,3)\")\n",
        "  depression4 = input (\"Feeling tired or having little energy? (0,1,2,3)\")\n",
        "  depression5 = input (\"Poor appetite or overeating? (0,1,2,3)\")\n",
        "\n",
        "  run(anxiety1, anxiety2, anxiety3, anxiety4, anxiety5, depression1, depression2, depression3, depression4, depression5)\n",
        "\n",
        "if __name__ == \"__main__\":\n",
        "  main()"
      ],
      "metadata": {
        "colab": {
          "base_uri": "https://localhost:8080/"
        },
        "id": "8DWhjLyqius5",
        "outputId": "7f9cdd14-27a7-4b95-cb94-3702867f9701"
      },
      "execution_count": null,
      "outputs": [
        {
          "output_type": "stream",
          "name": "stdout",
          "text": [
            "Welcome to the Mental Health Helper Sysyem!\n",
            "how often have you been bothered by the following over the past 2 weeks?\n",
            "\n",
            "    Not at all = 0\n",
            "    Several days = 1\n",
            "    More than half the days = 2\n",
            "    Nearly every day = 3\n",
            "    \n",
            "Feeling nervous, anxious, or on edge (0,1,2,3)3\n",
            "Not being able to stop or control worrying (0,1,2,3)3\n",
            "Worrying too much about different things (0,1,2,3)3\n",
            "Trouble relaxing (0,1,2,3)3\n",
            "Being so restless that it's hard to sit still (0,1,2,3)3\n",
            "Little interest or pleasure in doing things?(0,1,2,3)0\n",
            "Feeling down, depressed, or hopeless? (0,1,2,3)0\n",
            "Trouble falling or staying asleep, or sleeping too much? (0,1,2,3)0\n",
            "Feeling tired or having little energy? (0,1,2,3)0\n",
            "Poor appetite or overeating? (0,1,2,3)0\n",
            "\n",
            "Moderate anxiety disorder. Active treatment probably warranted\n"
          ]
        }
      ]
    },
    {
      "cell_type": "markdown",
      "source": [
        "##Test"
      ],
      "metadata": {
        "id": "rT_0704QpqVz"
      }
    },
    {
      "cell_type": "code",
      "source": [
        "run(\"1\", \"1\", \"1\", \"1\", \"1\", \"1\",\"1\", \"1\", \"1\", \"1\")"
      ],
      "metadata": {
        "colab": {
          "base_uri": "https://localhost:8080/"
        },
        "id": "TnsN7CxRppj7",
        "outputId": "7b9634d5-143f-4abc-8183-a0838196d01d"
      },
      "execution_count": null,
      "outputs": [
        {
          "output_type": "stream",
          "name": "stdout",
          "text": [
            "\n",
            "Answers suggest mild depression which may require only watchful waiting and repeated test at followup.\n"
          ]
        }
      ]
    },
    {
      "cell_type": "code",
      "source": [
        "run(\"3\", \"3\", \"3\", \"3\", \"3\", \"1\",\"1\", \"1\", \"1\", \"1\")"
      ],
      "metadata": {
        "colab": {
          "base_uri": "https://localhost:8080/"
        },
        "id": "AQaZQfGi6Ceg",
        "outputId": "508519e5-a53e-41a1-e509-340102aaa257"
      },
      "execution_count": null,
      "outputs": [
        {
          "output_type": "stream",
          "name": "stdout",
          "text": [
            "\n",
            "Moderate anxiety disorder. Active treatment probably warranted\n"
          ]
        }
      ]
    },
    {
      "cell_type": "code",
      "source": [
        "run(\"3\", \"3\", \"3\", \"3\", \"3\", \"3\",\"3\", \"3\", \"3\", \"3\")"
      ],
      "metadata": {
        "colab": {
          "base_uri": "https://localhost:8080/"
        },
        "id": "JbFWOQOD6mm0",
        "outputId": "bb880bd4-1e52-490c-dc5f-15cbe39c592d"
      },
      "execution_count": null,
      "outputs": [
        {
          "output_type": "stream",
          "name": "stdout",
          "text": [
            "\n",
            " Answers suggest moderate depression severity; patient should have a treatment plan ranging form counseling, followup, and/or pharmacotherapy.\n",
            "\n",
            "Moderate anxiety disorder. Active treatment probably warranted\n"
          ]
        }
      ]
    },
    {
      "cell_type": "code",
      "source": [
        "run(\"2\", \"0\", \"3\", \"1\", \"0\", \"0\",\"2\", \"3\", \"3\", \"1\")"
      ],
      "metadata": {
        "colab": {
          "base_uri": "https://localhost:8080/"
        },
        "id": "3PzWXdrZJERc",
        "outputId": "d19bfa3d-ef0e-4516-892e-2572e79c319b"
      },
      "execution_count": null,
      "outputs": [
        {
          "output_type": "stream",
          "name": "stdout",
          "text": [
            "\n",
            " Answers suggest moderate depression severity; patient should have a treatment plan ranging form counseling, followup, and/or pharmacotherapy.\n",
            "\n",
            "Moderate anxiety disorder. Active treatment probably warranted\n"
          ]
        }
      ]
    }
  ],
  "metadata": {
    "language_info": {
      "name": "python"
    },
    "colab": {
      "provenance": []
    },
    "kernelspec": {
      "name": "python3",
      "display_name": "Python 3"
    }
  },
  "nbformat": 4,
  "nbformat_minor": 0
}